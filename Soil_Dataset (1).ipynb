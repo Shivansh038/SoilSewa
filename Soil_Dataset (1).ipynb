{
  "nbformat": 4,
  "nbformat_minor": 0,
  "metadata": {
    "colab": {
      "provenance": []
    },
    "kernelspec": {
      "name": "python3",
      "display_name": "Python 3"
    },
    "language_info": {
      "name": "python"
    }
  },
  "cells": [
    {
      "cell_type": "code",
      "execution_count": null,
      "metadata": {
        "id": "Y_cYKz0TX9Au",
        "colab": {
          "base_uri": "https://localhost:8080/"
        },
        "outputId": "7620b323-9f10-4c39-a8e0-1d3805d4ee2c"
      },
      "outputs": [
        {
          "output_type": "stream",
          "name": "stdout",
          "text": [
            "Mounted at /content/drive\n"
          ]
        }
      ],
      "source": [
        "from google.colab import drive\n",
        "drive.mount('/content/drive')\n"
      ]
    },
    {
      "cell_type": "code",
      "source": [
        "!pip install --upgrade scikit-image\n"
      ],
      "metadata": {
        "colab": {
          "base_uri": "https://localhost:8080/"
        },
        "id": "wRerOZ5De__w",
        "outputId": "56deca79-117f-488c-9786-07b7234bc88b"
      },
      "execution_count": null,
      "outputs": [
        {
          "output_type": "stream",
          "name": "stdout",
          "text": [
            "Requirement already satisfied: scikit-image in /usr/local/lib/python3.11/dist-packages (0.25.2)\n",
            "Requirement already satisfied: numpy>=1.24 in /usr/local/lib/python3.11/dist-packages (from scikit-image) (1.26.4)\n",
            "Requirement already satisfied: scipy>=1.11.4 in /usr/local/lib/python3.11/dist-packages (from scikit-image) (1.14.1)\n",
            "Requirement already satisfied: networkx>=3.0 in /usr/local/lib/python3.11/dist-packages (from scikit-image) (3.4.2)\n",
            "Requirement already satisfied: pillow>=10.1 in /usr/local/lib/python3.11/dist-packages (from scikit-image) (11.1.0)\n",
            "Requirement already satisfied: imageio!=2.35.0,>=2.33 in /usr/local/lib/python3.11/dist-packages (from scikit-image) (2.37.0)\n",
            "Requirement already satisfied: tifffile>=2022.8.12 in /usr/local/lib/python3.11/dist-packages (from scikit-image) (2025.2.18)\n",
            "Requirement already satisfied: packaging>=21 in /usr/local/lib/python3.11/dist-packages (from scikit-image) (24.2)\n",
            "Requirement already satisfied: lazy-loader>=0.4 in /usr/local/lib/python3.11/dist-packages (from scikit-image) (0.4)\n"
          ]
        }
      ]
    },
    {
      "cell_type": "code",
      "source": [
        "import os\n",
        "\n",
        "dataset_path = \"/content/drive/MyDrive/Dataset_images/Alluvial_Soil\"\n",
        "\n",
        "for soil_type in os.listdir(dataset_path):\n",
        "    soil_folder = os.path.join(dataset_path, soil_type)\n",
        "\n",
        "    if os.path.isdir(soil_folder):  # Check if it's a folder\n",
        "        for filename in os.listdir(soil_folder):\n",
        "            old_path = os.path.join(soil_folder, filename)\n",
        "            new_filename = filename.replace(\" \", \"_\")  # Replace spaces with underscores\n",
        "            new_path = os.path.join(soil_folder, new_filename)\n",
        "\n",
        "            os.rename(old_path, new_path)\n",
        "            print(f\"Renamed: {filename} → {new_filename}\")\n",
        "\n",
        "print(\"✅ All file names updated!\")\n"
      ],
      "metadata": {
        "colab": {
          "base_uri": "https://localhost:8080/"
        },
        "id": "aP6bM3Jzgzhj",
        "outputId": "905c4310-f095-4db9-9424-a7e554a7fa51"
      },
      "execution_count": null,
      "outputs": [
        {
          "output_type": "stream",
          "name": "stdout",
          "text": [
            "✅ All file names updated!\n"
          ]
        }
      ]
    },
    {
      "cell_type": "code",
      "source": [
        "import os\n",
        "\n",
        "dataset_path = \"/content/drive/MyDrive/Dataset_images\"  # Update with your path\n",
        "\n",
        "for soil_type in os.listdir(dataset_path):\n",
        "    soil_folder = os.path.join(dataset_path, soil_type)\n",
        "\n",
        "    if os.path.isdir(soil_folder):  # Ensure it's a folder\n",
        "        for filename in os.listdir(soil_folder):\n",
        "            old_path = os.path.join(soil_folder, filename)\n",
        "\n",
        "            # Replace spaces and other special characters\n",
        "            new_filename = filename.replace(\" \", \"_\").replace(\"(\", \"\").replace(\")\", \"\")\n",
        "            new_path = os.path.join(soil_folder, new_filename)\n",
        "\n",
        "            # Rename the file only if the name changes\n",
        "            if old_path != new_path:\n",
        "                os.rename(old_path, new_path)\n",
        "                print(f\"✅ Renamed: {filename} → {new_filename}\")\n",
        "\n",
        "print(\"🎉 All filenames have been updated successfully!\")\n"
      ],
      "metadata": {
        "colab": {
          "base_uri": "https://localhost:8080/"
        },
        "id": "f1V4AXeehigX",
        "outputId": "61fbf48d-23f4-4b04-aaac-5ab4861a86c8"
      },
      "execution_count": null,
      "outputs": [
        {
          "output_type": "stream",
          "name": "stdout",
          "text": [
            "🎉 All filenames have been updated successfully!\n"
          ]
        }
      ]
    },
    {
      "cell_type": "code",
      "source": [
        "import os\n",
        "\n",
        "dataset_path = \"/content/drive/MyDrive/Dataset_images\"  # Update with your path\n",
        "\n",
        "for soil_type in os.listdir(dataset_path):\n",
        "    soil_folder = os.path.join(dataset_path, soil_type)\n",
        "\n",
        "    if os.path.isdir(soil_folder):  # Check if it's a folder\n",
        "        print(f\"📂 Checking folder: {soil_type}\")\n",
        "\n",
        "        for filename in os.listdir(soil_folder)[:5]:  # Show first 5 files\n",
        "            print(\"   🖼️\", filename)  # Print file names\n",
        "\n",
        "print(\"✅ File names listed successfully!\")\n"
      ],
      "metadata": {
        "colab": {
          "base_uri": "https://localhost:8080/"
        },
        "id": "YXECVypdhUrc",
        "outputId": "b13d5519-37c1-43e8-c5ef-cac02283ff50"
      },
      "execution_count": null,
      "outputs": [
        {
          "output_type": "stream",
          "name": "stdout",
          "text": [
            "📂 Checking folder: Peat\n",
            "📂 Checking folder: Sandy\n",
            "   🖼️ sandy_8.png\n",
            "   🖼️ sandy_3.png\n",
            "   🖼️ sandy_26.png\n",
            "   🖼️ sandy_21.png\n",
            "   🖼️ sandy_30.png\n",
            "📂 Checking folder: Yellow Soil\n",
            "   🖼️ 2.jpg\n",
            "   🖼️ 24.jpg\n",
            "   🖼️ 29.jpg\n",
            "   🖼️ 11.jpg\n",
            "   🖼️ 9.jpg\n",
            "📂 Checking folder: Laterite\n",
            "   🖼️ laterite_29.png\n",
            "📂 Checking folder: Black Soil\n",
            "   🖼️ 6.jpg\n",
            "   🖼️ 32.jpg\n",
            "   🖼️ 28.jpg\n",
            "   🖼️ 20.jpg\n",
            "   🖼️ 8.jpg\n",
            "📂 Checking folder: Clayey Soil\n",
            "   🖼️ Copy-of-clay-soil-cropped_jpg.rf.ca81347c186575822f73d0a8fbaf0b4e.jpg\n",
            "   🖼️ Clay_47_jpg.rf.dea7190333a3076171afaf1c33e598c7.jpg\n",
            "   🖼️ dried-cracked-earth-soil-ground-260nw-519337915_jpg.rf.e1018459aa594f47ec3fcfcf751ed443.jpg\n",
            "   🖼️ Copy-of-images76-1-_jpg.rf.7e3889f08d2007e34e3e113911aa5590.jpg\n",
            "   🖼️ texture-dried-earth-clay-sand-260nw-1344131942_jpg.rf.bdb94eafad803220590d673ced5487a2.jpg\n",
            "📂 Checking folder: Sandy Loam\n",
            "   🖼️ loamy-2_png.rf.e6aa43a301dc06cb1d5be765e1fbe356.jpg\n",
            "   🖼️ loamy-7_jpg.rf.a3aac7a6ed579eb91ebd44ebafcf3969.jpg\n",
            "   🖼️ loamy-4_png.rf.945807d564fc7acbfe56786cf194674f.jpg\n",
            "   🖼️ loamy-9_jpg.rf.f0747e37f029ff9a5c7cb8cb039691db.jpg\n",
            "   🖼️ loamy-8_png.rf.d6132a36a7409666e1c0c240eed796db.jpg\n",
            "📂 Checking folder: red\n",
            "   🖼️ form-soil-layersits-colour-texturestexture-260nw-605738270_jpg.rf.b5a88684421b6fdb7c06b1f6fe5df77d.jpg\n",
            "   🖼️ dry-soil-texture-background-red-260nw-1228668364_jpg.rf.90aa03f124b7241722a5709b5b7779ba.jpg\n",
            "   🖼️ fine-soildirt-on-ground-260nw-510998479_jpg.rf.06e8d55c50609c6840bdc2c625947604.jpg\n",
            "   🖼️ ibiza-balearic-islands-spain-olive-260nw-1729182478_jpg.rf.c720dfbce3bbdf2cccb737024452ca51.jpg\n",
            "   🖼️ filled-dust-dirt-road-countryside-260nw-184688045_jpg.rf.b717012aca84af16ab9304bee372f5af.jpg\n",
            "📂 Checking folder: Alluvial_Soil\n",
            "   🖼️ close-up-of-alluvial-soil-as-a-texturebackground-JCB3RY.jpg\n",
            "   🖼️ alluvial-soil-1_jpg.rf.6c1b4b372983cd2eb459d2cbba8be74f.jpg\n",
            "   🖼️ alluvialsoil_MH_jpg.rf.8410fadb77c1518f9e56597716381861.jpg\n",
            "   🖼️ alluvial-soil-260nw-1192540783_jpg.rf.78aa38101dfde149ef90afbaa1ed7a39.jpg\n",
            "   🖼️ alluvial-deposite-tumacacori-az-260nw-1007253439_jpg.rf.f87744bfd336eda156b6256c0afa7285.jpg\n",
            "✅ File names listed successfully!\n"
          ]
        }
      ]
    },
    {
      "cell_type": "code",
      "source": [
        "import os\n",
        "source_dir = \"/content/drive/MyDrive/Dataset_images/Alluvial_Soil\"  # Update with your dataset path\n",
        "\n",
        "print(\"Checking dataset folder exists:\", os.path.exists(source_dir))\n",
        "print(\"Folders in dataset:\", os.listdir(source_dir))\n"
      ],
      "metadata": {
        "colab": {
          "base_uri": "https://localhost:8080/"
        },
        "id": "AlxPgU4Qf6Wi",
        "outputId": "d648a644-f139-4f04-f8fd-b69595f9517f"
      },
      "execution_count": null,
      "outputs": [
        {
          "output_type": "stream",
          "name": "stdout",
          "text": [
            "Checking dataset folder exists: True\n",
            "Folders in dataset: ['close-up-of-alluvial-soil-as-a-texturebackground-JCB3RY.jpg', 'alluvial-soil-1_jpg.rf.6c1b4b372983cd2eb459d2cbba8be74f.jpg', 'alluvialsoil_MH_jpg.rf.8410fadb77c1518f9e56597716381861.jpg', 'alluvial-soil-260nw-1192540783_jpg.rf.78aa38101dfde149ef90afbaa1ed7a39.jpg', 'alluvial-deposite-tumacacori-az-260nw-1007253439_jpg.rf.f87744bfd336eda156b6256c0afa7285.jpg', 'alluvial-soil-600w-1192540783_jpg.rf.0d7adbe53fcd3908c25d6a942e1d5104.jpg', 'alluvial-soil-geographical-study-reference-260nw-1988780216_jpg.rf.c3bdf112206f1e973737ad54f5c2dc3c.jpg', 'barren-piece-land-india-recovering-260nw-1128115541_jpg.rf.70e93cb8ceac8bbb8407fd6a62ad1343.jpg', 'capsicum-frutescens-chilly-plant-growing-260nw-2157193777_jpg.rf.99314f71a7ef9fb77c43441017e8266c.jpg', 'alluvial-soil-geographical-study-reference-260nw-1992713210_jpg.rf.b1f4683b8b89505da656f64253b8a1a2.jpg', 'alluvial-soil-texture-agricultural-land-600w-1867228120_jpg.rf.efd07e97f259440dff1dd2b7d7a59301.jpg', 'closeup-alluvial-soil-texturebackground-600w-524203225_jpg.rf.961a466997497871173e5d53bc2ed130.jpg', 'alluvial-soil-geographical-study-reference-600w-1992713210_jpg.rf.3bfe34747ca20365e41433fbd634c19a.jpg', 'fossilized-concretions-alluvial-sand-soil-260nw-1205780284_jpg.rf.862b27f6ed702c442039cb1460966c52.jpg', 'fossilized-concretions-alluvial-sand-soil-600w-1205780284_jpg.rf.b11e1e7df03b5ec85b8d4fab4f799e21.jpg', 'different-soil-types-are-found-in-different-states-of-the-country-1743087089_jpg.rf.4dfe10e440588c7be714d655d22d98aa.jpg', 'image_jpeg.rf.b9a76cf9f4108e49260479daac5b0bf6.jpg', 'echinochloa-barnyard-sprout-has-grown-260nw-1759820435_jpg.rf.ba90cbd78064d3bc3e194c8113c6c90f.jpg', 'closeup-plowed-field-fertile-black-260nw-1831062274_jpg.rf.0ee912d83ae6d99a2255746b09144140.jpg', 'india-agricultural-country-different-soil-600w-1743087089_jpg.rf.94846ce56cc1fac71688dd4ebc5ae6a6.jpg', 'natural-silty-soil-background-brown-260nw-184759979_jpg.rf.99f0de4c992c57c5a758686fcc1aea31.jpg', 'maxresdefault3_jpg.rf.b4196489caf44b173a6158ba2d470439.jpg', 'india-agricultural-country-different-soil-260nw-1743087089_jpg.rf.47f3971635e49f4518906af4d1fc5e74.jpg', 'image8_jpeg.rf.7bc324e093d3f0d25df00cb05e526a05.jpg', 'india-agricultural-country-different-soil-260nw-1743086732_jpg.rf.9f72e890ec6b1bff0d003e33a7fc1352.jpg', 'natural-silty-soil-background-brown-600w-184759979_jpg.rf.76d439e5467e5d03cb1a52e7bce7eb63.jpg', 'natural-silty-soil-background-gray-600w-184758788_jpg.rf.3c64de8ad564adbde5b15eaf0eabaca8.jpg', 'OIP-1vicXvT-DTQcmaSqg8ZIxwHaDt_jpg.rf.9e6d86e3d1d4412e4d7dd5eb67cb9a99.jpg', 'natural-silty-soil-background-brown-600w-234187528_jpg.rf.c99c3526c1fb343e69c3d947c2464085.jpg', 'natural-silty-soil-background-gray-260nw-184758788_jpg.rf.a6004ed89c6d68fd76b2737bf8ee2c72.jpg', 'natural-silty-soil-background-brown-260nw-234187528_jpg.rf.7fc43e6ebfe084c28e8e522d17eec6ff.jpg', 'OIP-2FeBIZUc_LfQqTdwlHtmRAHaEK_jpg.rf.700258c19b25425c279a88f7b167b75e.jpg', 'OIP-3Kq1BfOflfo9AeJdczaMowHaEK_jpg.rf.7efb1f664eb1db55bb33ad05c1fc1976.jpg', 'OIP-H3kzb4utqTN7dWVbzM7rwAHaEK_jpg.rf.b8ac62be59d6216665e70508b6f33f34.jpg', 'OIP-dRFUggaIxBebiqqG13n0_AHaE6_jpg.rf.eddbfcaf63ad7103e1d7d22e3d37e935.jpg', 'OIP-fVsrmGNezxQjaH64kBToWwHaD4_jpg.rf.bd7c38083f1b981078c7cc1ad0d970c7.jpg', 'OIP-FrujxcZOtYy3VxdWx5LWnQHaFG_jpg.rf.fa53428824ec19250de4dbd5a43e7dde.jpg', 'OIP-g1CkewGUpICmIzp9SBuyTAHaGz_jpg.rf.cdaf4701b027fcf5a0decf4d1e79b037.jpg', 'OIP-H3kzb4utqTN7dWVbzM7rwAHaEK2_jpg.rf.f2ac7182fea1fa01e54115426efb923a.jpg', 'OIP-KVkf9QJRKPigCm0hKBI3qAEsDh2_jpg.rf.d3b8c45dc10c6d321de46307420c9641.jpg', 'OIP-xtcfrIVCbUNDRIRoXLJNMwAAAA_jpg.rf.30ede63039fdd47b1cbbc7a79cf8d783.jpg', 'OIP-lf-P9Z4OogePsv6aa0-cFQHaFT_jpg.rf.be1fc3c030d5911b9231700ca09a6051.jpg', 'OIP-Kn4LNdqDw9V3F7YQKCPaBQHaLc_jpg.rf.16e6e92f81253090bd099093e2b98fe8.jpg', 'OIP-ZefJmtET3Dfl4AJkIZVRfwHaE8_jpg.rf.04335e0d929fb6651ac3543d3d761663.jpg', 'OIP-LrCRAxHVn5zVy0k3GitUygHaD4_jpg.rf.6d38c09ee2411be2637f4b622af2e47b.jpg', 'Photograph-showing-the-presence-of-alluvial-soil-along-stream-course-dry-near-Patlodha_png.rf.fd54fa0e3e5d404960831905ea88b206.jpg', 'silt-soil-high-fertility-agriculture-600w-1330923146_jpg.rf.f2532b90b51d2bf92a33c35f53f10c9e.jpg', '-soil-for-agriculture-silt-is-granular-material-of-a-size-between-1330923146_jpg.rf.01577659ff1cb8a846813a056a9334c2.jpg', 'silt-soil-high-fertility-agriculture-260nw-1330923143_jpg.rf.0a5e85eb3982d2249e07d04ce06aeb1f.jpg', 'regular-alluvium-soil-structures-on-260nw-595009385_jpg.rf.986a5c2765421744f4b947d1136aabbf.jpg', 'soil-fertility-refers-ability-sustain-260nw-1857726589_jpg.rf.5b26a2d582f94dad62a5f7205caf13bf.jpg', 'plowing-completed-after-completion-annual-260nw-1731441091_jpg.rf.459dd192d93d114615508ea459980816.jpg', 'regular-alluvium-soil-structures-on-600w-595009385_jpg.rf.619820cc4b199ab05fde0a2ec4a62017.jpg', 'silt-soil-high-fertility-agriculture-600w-1330923143_jpg.rf.dd317bceceea925c84d8184b8658720e.jpg', 'stock-photo-alluvial-deposite-tumacacori-az-1007253439_jpg.rf.8f7f1baed1b31c527581b902daf4eb8e.jpg', 'stock-photo-top-layer-of-moist-black-soil-1802407393_jpg.rf.fe14d260b8e925c857b5ec001f596aef.jpg', 'stock-photo-fossilized-concretions-in-the-alluvial-sand-soil-1205780284_jpg.rf.aaeae3e442e54cec1b9786fdb3d48654.jpg', 'top-layer-moist-black-soil-600w-1802407393_jpg.rf.9e99b9873ebf466c109cec461b6b0a89.jpg', 'stock-photo-river-alluvial-silt-1055516195_jpg.rf.4e929a7c78d34091cfc42cdb22800a41.jpg', 'sowing-has-been-done-plowed-260nw-1760541305_jpg.rf.e0122688e556b34265c57e02e775132a.jpg', 'texture-alluvial-mud-sea-shore-600w-1779309644_jpg.rf.03c4e460e3bc308ec71ce53db07be1cd.jpg', 'soil-upper-layer-earth-which-260nw-1857677119_jpg.rf.fe81b33843ed293fa3f241c53395b529.jpg', 'th3_jpg.rf.7dc9ace048dc5940b1c8a0ff3d3e5bdf.jpg', '40734_CMS_IMAGE_png.rf.f1e5d309c997dd89798740cd39a72669.jpg', '92d1b796-1416-4209-8361-42289841df6f3986576519591075267_png.rf.ae72ed1190dc278091314bd6a3a8510d.jpg', 'trace-water-on-mars-fictional-260nw-602187461_jpg.rf.9ff955e9ae1d5ac9ae6db49ea477fd80.jpg', '191101-48_jpg.rf.c4c8e1c1bcbbd00dc0d50020c458fb54.jpg', 'closeup-alluvial-soil-texturebackground-260nw-524203225_jpg.rf.6d84542ad54051ebb19857448e451412.jpg', 'OIP-uApXs3Gbx3mU71-BGTLf3gHaE-_jpg.rf.544566418f4b9da095886b9e49c38a06.jpg', 'OIP-KVkf9QJRKPigCm0hKBI3qAEsDh_jpg.rf.bf2f3b0b7bad0c217634d1420b56720c.jpg', 'OIP-HxR3HmFmEDtRwv49xNa6tAHaFc_jpg.rf.0231e69a083712e91647115497fb6dfb.jpg', 'alluvial-soil-geographical-study-reference-600w-1988780216_jpg.rf.35621de546af6267da5fa65ea7de76c6.jpg', 'soil-upper-layer-earth-which-600w-1857677119_jpg.rf.f83bff314fa11684232065d122b82f07.jpg', 'OIP-DYv2HhVuCZkJuo6K4NcjgwHaE6_jpg.rf.23355e3fb35e9f9f322aede5449262a3.jpg', 'seedbed-high-resolution-image-260nw-1268644045_jpg.rf.2c29c9a5e73aab32b5eb8a328526e2b6.jpg', 'OIP-raUzyqtNr7IxQ0aTNBpYYAHaJ4_jpg.rf.8bb1fa49c19781d7e21d044644a447ab.jpg', 'OIP-FrujxcZOtYy3VxdWx5LWnQHaFG2_jpg.rf.f7502bb7546d9c10a6e794dcd66cf473.jpg', 'OIP-BrlorKHI55G8GWp-2h3D3AHaE6_jpg.rf.b5c3a543d45ce58b6eeeb070c8b76b87.jpg', 'OIP-OiTT-QFIrDWb_w89UL0ntAHaE6_jpg.rf.f831de68ff3e2610cba5a3858389e248.jpg', 'alluvial-deposite-tumacacori-az-600w-1007253439_jpg.rf.210e8674cad610827b0caf4e3655c200.jpg', 'OIP-cVbfiu4IyXjR3Bo20h4GVgHaFi_jpg.rf.cd254043c86bcd7fb3a8ec5dbbb1a299.jpg', 'river-alluvial-silt-260nw-1055516195_jpg.rf.469c1d02570e08939c956b1df32250e7.jpg', '-soil-for-agriculture-silt-is-granular-material-of-a-size-between-1330923143_jpg.rf.0092d6040c894ccd32ffdb23107d32e7.jpg', 'stock-photo-geology-layers-1225720_jpg.rf.72b7478f397a97f753b3eec37ef8e6cf.jpg', 'OIP-XkWVIib-nRzhcUyqSGwzyAAAAA_jpg.rf.7e567a20825dbc444e429cd22fc25d68.jpg', 'india-agricultural-country-different-soil-600w-1743086732_jpg.rf.c12977ec2d57a4ac9dbaba2c9b836f3e.jpg', 'image5_jpeg.rf.a4a5e904b8e04ceadbf31034abf8f893.jpg', 'OIP-4clzFk5Z-CwOONMGFSPMbwHaFc_jpg.rf.f13bc967956820d9fbe1accfef75b03e.jpg', 'river-alluvial-silt-600w-1055516195_jpg.rf.aae4a3e6eb0bb21d3298332d4ab5654b.jpg', 'OIP-Tyq5ulNFFyOPKMcZgfCLuAAAAA_jpg.rf.b49b4138b88b09d2c40173e8caf1944a.jpg', 'alluvial-soil-texture-agricultural-land-260nw-1867228120_jpg.rf.400ce21fd7c4422e17f9f58b11b0ccb9.jpg', 'CHANNINGDAUGHTERSsoilprofile4-JPG_jpg.rf.fd53da6bbbe27be51d09a10e1ebb8605.jpg', 'alluvial-soil-profile-agricultural-land-600w-1867228486_jpg.rf.7d5cc1426201d3c446ebf915ed72ff5c.jpg', 'different-soil-types-are-found-in-different-states-of-the-country-1743086732_jpg.rf.3f6ba558ac9df867a5b4c781ea11cff2.jpg', '2dn0eb5_jpg.rf.25109c34d594d5cb23ad9b3807901a2b.jpg', '2d7mc8k_jpg.rf.19f4e39b86fdce057ed84ca81cdf9b52.jpg', '1000_F_240425429_YL91trtDxXQl8L0OKP7zyngeSb63olAC_jpg.rf.b36cca57353dd8f2b6adf6352b63e0cd.jpg', '2g38j29_jpg.rf.46520532b585e297e0516887824c65c0.jpg', 'Alluvial_8_jpg.rf.612e36a8409e43ed76d3fbafee66444a.jpg', 'Alluvial_6-Copy_jpg.rf.4ab69c0915febeaa8e5bb56566dd22bf.jpg', 'Alluvial_1_jpg.rf.014b41f809d896cb7fe88392809d9f68.jpg', 'Alluvial_7_jpg.rf.01e2d629221afbded3ce52bebed023f1.jpg', 'Alluvial_10_jpg.rf.42a2609125115906f1bcde944deba254.jpg', 'Alluvial_9_jpg.rf.b699319f1faf940b0b29c165a81f30fc.jpg', 'Alluvial_22_jpg.rf.c38fc3f67895d70c44578addd76def92.jpg', 'Alluvial_11_jpg.rf.7745fe63ec7b104b4026b920d133a426.jpg', 'Alluvial_25_jpg.rf.3bd1d1a6eb148f6a024a39ac3f3394a6.jpg', 'Alluvial_24_jpg.rf.4327b70b8bf31f615807a9a6c5f404be.jpg', 'Alluvial_28_jpg.rf.56365d275e18ec0373068f7822750ec4.jpg', 'Alluvial_23_jpg.rf.1299d2b7aad4a3640005020d17a1ac5e.jpg', 'bdxm76_jpg.rf.9bef1cd627a825bc99d9ac55a91610a3.jpg', 'Alluvial_53_jpg.rf.578a40ddb233858da9b26aac9de0d078.jpg', 'bacc84d8b5ee71ac40cfe0ebc0371268_jpg.rf.5138b77bb03a2765771ddce44570fb9f.jpg', 'bdxkw0_jpg.rf.6a80f60e97d7bd510e37276a7887b222.jpg', 'clay-soil-texture-background-dried-surface-M43TEA_jpg.rf.1f4d881135ae6fd30b44559b5d89d4ff.jpg', 'clay-soil-texture-background-dried-surface-M43TE0_jpg.rf.0819f59d7b5baa03502e6ca0be899770.jpg', 'clay-soil-close-up-brown-179039817_jpg.rf.c66445392b966e349828084224df4c77.jpg', 'bhrp13_jpg.rf.d9b27da584157d4d153385edf30c1b2d.jpg', 'Copy-of-01060602previewen-02d_jpg.rf.5fbf90eda5a0d0b93f8df2f385b6bcda.jpg', 'Copy-of-1000_F_233167094_JhQz9xvHtlN5UyT3zt748JiJolOSid7s_jpg.rf.8d8ac52ffb578f9260cb53071cdedfe1.jpg', 'Copy-of-alluvial-soils-ricker-2primefarmland-1200x675-1_jpg.rf.3112f91ebb854e44d753dc92afc4ba80.jpg', 'Copy-of-image6-2-_jpeg.rf.1bde8d4732c135b2797531a0796ca49a.jpg', 'Copy-of-clay_jpg.rf.8b8003bf1e96d5cd654d7ddfd608b620.jpg', 'Copy-of-desktop_137249cc-6732-40b3-94e1-1381ad82c07f_jpg.rf.2a14b3e1d12969f52ab2047af19d4435.jpg', 'Copy-of-image16-3-_jpeg.rf.2237bd885a819d2d2f808228d81e0983.jpg', 'Copy-of-clay-260nw-614429543_jpg.rf.5b735594c4306081a4e58f8fae25c84a.jpg', 'Copy-of-red-clay-soil-closeup-red-clay-soil-closeup-as-natural-background-989216052_jpg.rf.0d28f61d8aedde3ff9dd22e217279e2a.jpg', 'Copy-of-images120_jpg.rf.6e2588e25324b69c663b83d9bd4963ba.jpg', 'Copy-of-Sample1-30_jpg.rf.c6b4a7ecee4a434360dd0f0d98df161c.jpg', 'Copy-of-IMG-20220531-WA0075_jpg.rf.d00f814970e082194df70cac12504ea6.jpg', 'Copy-of-Sample4-30_jpg.rf.5a11622a1765fd5eef90343b5f949661.jpg', 'Copy-of-Sample1-60_jpg.rf.27191d288656f3dd0258cd0a386e9419.jpg', 'daw07p_jpg.rf.a69a0548a809f85d2d114245e5dd1518.jpg', 'Dirt-texture-tn-1-of-1-_jpg.rf.597098d84997632e6fdb9402faaba297.jpg', 'Copy-of-Sample1-150_jpg.rf.995be231866c86c54ff20a5ed82023bb.jpg', 'download-2-_jpg.rf.3a16181540330193a58b68ff31dcf8e3.jpg', 'download-1-_jpg.rf.e46d1b6cadcb23db46dcd1c6703603eb.jpg', 'download-2-_jpg.rf.aad1bf2b3be5a7bb2521433fba455a34.jpg', 'download_jpg.rf.c7867521388aef48faf6741c8b920fe5.jpg', 'download-4-_jpg.rf.a3a7baf67b5733d28c39e91e2c6ad386.jpg', 'f7tx9h_jpg.rf.75515d271688c8be54ab7107bfd93341.jpg', 'download-7-_jpg.rf.27bf9257b240903d5fb3e43bbe977be5.jpg', 'ewefgt_jpg.rf.56f5f001cb68733c2e3552ef3ff52da0.jpg', 'download-5-_jpg.rf.69a38fef76782799a65c1683b3a5cd8c.jpg', 'eayxgt_jpg.rf.f2cb99d6ceaae9b4ae1d21a1d855d8d2.jpg', 'gravelly-soil-texture-GD7C2C_jpg.rf.532271ce27b2a376a781a46e1b9bf928.jpg', 'ge7j1p_jpg.rf.beb91ea2ce57b9e0ad58c2a16b64a634.jpg', 'fjhnnn_jpg.rf.73fdbaccc1eab80489806aa645714837.jpg', 'g8cr5r_jpg.rf.b01d8fe8a4f1d4c4a9e9dc5a0a839262.jpg', 'g8cr6w_jpg.rf.6691507f27e22cc59cf363792233bbc5.jpg', 'images-1-_jpg.rf.e0d96179633846615e08d3121adfb68d.jpg', 'image7-2-_jpeg.rf.73eb53741f02c90bd318dfea29fb7d28.jpg', 'images-2-_jpg.rf.e0a53d53ee88d7138717b6515140e649.jpg', 'images-1-_jpg.rf.cab914f73e241f5e8706968112c10890.jpg', 'h973ny_jpg.rf.f816e09017b52551934baf545fb355d9.jpg', 'images-2-_jpg.rf.4bc95081174bedeca17e7b79917921e2.jpg', 'images-3-_jpg.rf.7f0bfb8854c4f03699604119cad5a6f7.jpg', 'images-4-_jpg.rf.b0b5fd1cb5653382cb27734e3597e817.jpg', 'images-6-_jpg.rf.618c7982b7f11f8cd1c30f2bce5b3e80.jpg', 'images-6-_jpg.rf.fc39889cffe14be88c561b2703ec506c.jpg', 'images-5-_jpg.rf.2f03bdced6348ec9787084c927d728d7.jpg', 'images-9-_jpg.rf.4050a9a14181ecf39d6dbeab217215c3.jpg', 'images-8-_jpg.rf.1d5adf98417d67293efd734f96644cc7.jpg', 'images-10-_jpg.rf.c120779bb2c83bb5980e36a8c7390373.jpg', 'images-7-_jpg.rf.8f602cde0f2077240d7ff89fba8f72b5.jpg', 'images-7-_jpg.rf.a8ed954a930c4b1c57a09c3f44d19c8c.jpg', 'images-9-_jpg.rf.034b48b7bab5c278cad705efd5854c02.jpg', 'images-11-_jpg.rf.67952ccb2dcef56ce29c3654f4e29553.jpg', 'images-12-_jpg.rf.360b4c74493df7038f89fc146a4f9772.jpg', 'images-13-_jpg.rf.fc24c4669bd3af93e97b4fd7d0a12dd2.jpg', 'images-12-_jpg.rf.cfebfc42eb2d0184e42df1d794082636.jpg', 'images-13-_jpg.rf.c58eae2bdac87a21180b94afa42a857b.jpg', 'images-15-_jpg.rf.81b4603d8f3ae035295b0c98ad6746df.jpg', 'images-18-_jpg.rf.aa36eb9f6252f8cfd4d8f3a22380e524.jpg', 'images-19-_jpg.rf.d253073fa228f8aa7115c85eab8907be.jpg', 'images-14-_jpg.rf.6baa8ba08294718a016e25e82dedf007.jpg', 'images-19-_jpg.rf.582402d92f36fd86001345cea0528c6a.jpg', 'images-17-_jpg.rf.751bf9b6e4c216c23733e106186f35d5.jpg', 'images-16-_jpg.rf.c32e2e705fb966f24d61eb70efb13493.jpg', 'images-23-_jpg.rf.27f5d26508525da29caaff353118c0c3.jpg', 'images-20-_jpg.rf.385104da41609cae34a16b9aa86ce877.jpg', 'images-21-_jpg.rf.aecdd094823a37fa5a9c68ff43eec541.jpg', 'images-21-_jpg.rf.14ccfe92d826c2381554b1fd4e157efc.jpg', 'images-22-_jpg.rf.4b58a515514ec95a1881d35a2a8bb0b0.jpg', 'images-20-_jpg.rf.cc0b80bec56a6fc0d6c9f093c83fcf12.jpg', 'images-23-_jpg.rf.231748177e1489b039b4cac93f3ec11d.jpg', 'images-53-_jpg.rf.8e974be74c0b0f0da41eba173ed61c53.jpg', 'images-29-_jpg.rf.e7bee1a3f25685b8e1fe2ebe936c2e3a.jpg', 'images-25-_jpg.rf.0efb420168d573378d79ae7e82985ac7.jpg', 'images-26-_jpg.rf.27883ed8f695acba03a2d2d593b04aa8.jpg', 'images-30-_jpg.rf.7d5a810d4a1faf64b914e2a5aebf93e0.jpg', 'images-27-_jpg.rf.429a6cfd77f3ac88a7cdb412d939253d.jpg', 'IMG-20220531-WA0023_jpg.rf.73a5bf58090cb8ab0f52a774b0edb952.jpg', 'images-55-_jpg.rf.8fa79b2c849930b52003022b6d04d1d5.jpg', 'images81_jpg.rf.8741c45ec9a8791f0e63cf031e2e13b1.jpg', 'Sample6-0_jpg.rf.0059cb62f26851816dde987af9a3fbc2.jpg', 'istockphoto-484327997-612x612_jpg.rf.0420c758c727f02a2168828e97ccf257.jpg', 'photo_2022-06-01_07-08-18_jpg.rf.78524514e9c915335ce1962acdaeddc4.jpg', 'images86_jpg.rf.9a4e4a687202a62528cc5ac748dc63cd.jpg', 'photo_2022-06-01_07-08-40_jpg.rf.40617ef9f141bd686f7d4602f4a5aca2.jpg', 'images-65-_jpg.rf.73479d39cc7d3d704c27b181aa78e9fe.jpg', '2adcmg8_jpg.rf.c30c0e4fbd6c51c8b53029e4d134b59b.jpg', 'soil-texture_jpg.rf.212bd5b8d69f17c94ce99c77714b34ce.jpg', 'Sample9-90_jpg.rf.32a4a9508c48663be9aa9f8abbd6d410.jpg', 'Sample13-120_jpg.rf.83c8cf04e990914625b8344d5c505703.jpg', 'Sample13-150_jpg.rf.bf0f2961e04d4ae4d49d2f870a6b6237.jpg', 'Sample6-60_jpg.rf.d039038ef22c1fbc53a1436c2a69b800.jpg', 'Sample6-30_jpg.rf.71fc51f65acf75865eddebd7cc171481.jpg', 'Sample13-180_jpg.rf.751b742d371c5ee1c29d5881ea0c4721.jpg', 'soil-texture-close-up-ground-nature-background-photo_jpg.rf.961dfe4eff2465ad8617779d6a1a240f.jpg', '2cwbyja_jpg.rf.a9e39735da87760e5c875f1eacefdafa.jpg', '2d7mc7b_jpg.rf.1620758bc476d8eb71c854f810488f46.jpg', 'Copy-of-Sample1-120_jpg.rf.2f9e7da4fac29702c1973362110870a9.jpg', 'Copy-of-image-2-_jpeg.rf.91c653dd451b998c1d1187bfe5c886f5.jpg', 'g8cr87_jpg.rf.91965de04ced220971d66048f3d07a08.jpg', 'Copy-of-BLOG_Clay_soil_1024_500_x500_png.rf.7b45ba45f537d1ebd065b2a542f15b15.jpg', 'g8cr47_jpg.rf.9f72cef087486615f5e90fc5f18e9d20.jpg', 'Copy-of-Sample1-0_jpg.rf.ae13f8f26abeeac822ba537c17edc350.jpg', 'Copy-of-plants-clay-soil-intro_jpg.rf.a0ccf80ee0fdba9238a1d23af1092f3b.jpg', 'Copy-of-close-up-of-alluvial-soil-as-a-texturebackground-JCB3RY_jpg.rf.546bb71ba3b5004cd2193b981618aaa1.jpg', 'g8ctyy_jpg.rf.7ff754ac99dce3bdccd52fd0734b3a9f.jpg', 'Alluvial_27_jpg.rf.8f25a43ea0bdf84fc192fe1d6e0e5682.jpg', 'g48jkh_jpg.rf.3e9123d94c57835a3d781aa313559ea1.jpg', 'images-17-_jpg.rf.38d74305ee511146a5d58e2fda1d7924.jpg', 'images-22-_jpg.rf.b3be7437dda167dca4fd35045f799e59.jpg', 'images-5-_jpg.rf.b26470f00bea6b2da0f04a6d00b788da.jpg', 'gbyndr_jpg.rf.08a2f62c8cb9621c641ffe79de5ada93.jpg', 'download-3-_jpg.rf.c5acc0b7dd27a40606e1f7389c47ecda.jpg', 'download-6-_jpg.rf.a1e1c1d6e4657b35bc3998ad13d473b8.jpg', 'images-4-_jpg.rf.8fd9ab2c657dc8dbb58638a30d413ddb.jpg', 'photo_2022-06-01_07-09-46_jpg.rf.6b4322fae38ff85ece4409cfaf519396.jpg', 'images-54-_jpg.rf.bb47b247e184a0be32ac15bdd43db578.jpg', 'images-18-_jpg.rf.c34ae32e4882e6d6754c752986a07fe1.jpg', 'images-3-_jpg.rf.d8806f48c843cf21187b74bc4174e27a.jpg', 'images-14-_jpg.rf.3e9124d41db3e6cf10eb6055ebf3e448.jpg', 'photo_2022-06-01_07-08-36_jpg.rf.d262a45c563e2388310fe650a642b401.jpg', 'images-31-_jpg.rf.fecc3e0098305847ea566783df296148.jpg', 'images_jpg.rf.662451b19b1619c9f4a6546a15bff96a.jpg', 'images-10-_jpg.rf.636c18b637af508ce57a5b5733878f75.jpg', 'image3-2-_jpeg.rf.406cb88f3a79c9cf49446190ccf1fcc6.jpg', 'download-1-_jpg.rf.e610e9ceb55906252a06e8dbe5bd469d.jpg', 'Sample11-90_jpg.rf.e609256d0a5a1afa661f23398db5058c.jpg', '2g8785r_jpg.rf.891ec2c62810effc3171b7b7f0307dab.jpg', 'unnamed-1-2_jpg.rf.d8cd66c30c1c1e7934273414c5dc3f19.jpg', 'seamless-texture-sand-soil-render-03_jpg.rf.3045fd5c6e049352399eb9a2d3af3128.jpg', '2d7mc92_jpg.rf.f4f3e58684a5d1d7d457d21e724434ea.jpg', 'Copy-of-Sample1-90_jpg.rf.f6d2629c3e4d9fe9a2893013e37cf340.jpg', 'Alluvial_48_jpg.rf.d93a89aff2feba4588f7a943966b65d9.jpg', 'desktop.ini', '01060602previewen-02b_jpg.rf.8008d58df20198ed81f76d214b38dcee.jpg', '191101-48_jpg.rf.eeaf68e7e45e56117d647a9c53def3be.jpg', 'Alluvial_2_png.rf.49b57cf1f032bcc066413f690926d2fd.jpg', 'Alluvial_3_jpg.rf.316e1eb740281ecc27265f7fe89819be.jpg', 'Alluvial_3_png.rf.004b95ecafdc6f1623d7ff4575ff2478.jpg', 'Alluvial_4_jpg.rf.91693dbdefc494ac900205a71180d302.jpg', 'Alluvial_5_jpg.rf.6ee0ffdcc0029bd9f6ee75f75aaf4764.jpg', 'Alluvial_6-Copy_jpg.rf.0a4c968f6409d609b52a9051e453b865.jpg', 'Alluvial_7_jpg.rf.3ec1df9079ec8f9dff97c464206a4588.jpg', 'Alluvial_8_png.rf.4d7265c5f053c7fb3cafe3e5504f26d8.jpg', 'Alluvial_8_png.rf.b024fc9ec6c2adfafe76cdb396a219d5.jpg', 'Alluvial_10_png.rf.6aa8a195d1f164524607b0c389c16881.jpg', 'Alluvial_10_png.rf.819a0050bdb69f4ad1d5779aa8b02d7c.jpg', 'Alluvial_16_png.rf.812fb3aa8567b4b937ac16a08a8117ad.jpg', 'Alluvial_10_png.rf.fa9419a72327b7ff03fcf95a120e9ade.jpg', 'Alluvial_16_png.rf.280645670bef689a3f81e54f98535da1.jpg', 'Alluvial_18_png.rf.27c2cd8022685e0f7978ceef1d4236b5.jpg', 'Alluvial_17_png.rf.6379c5229efca008b0ca2dd398c1a7e1.jpg', 'Alluvial_18_png.rf.97604e80f03e4782aecb05e027887d6a.jpg', 'Alluvial_18-Copy_png.rf.c2fa77a3384472b9c9f2863a1851e02c.jpg', 'Alluvial_19_png.rf.705e5c762997a6bf0bc50f97f85863da.jpg', 'Alluvial_21_png.rf.3bfeed54c92828a43eb5f1ee264322e4.jpg', 'Alluvial_21_png.rf.23571746421969b9975978839e92c4c6.jpg', 'Alluvial_22_png.rf.8b01045bec0c14b87dea993d29995f9f.jpg', 'Alluvial_22_png.rf.6262f3647e9536003c5922a31b47566e.jpg', 'Alluvial_22_png.rf.c4f3fbccb25714cef92cd2d0ea93b926.jpg', 'Alluvial_23_jpg.rf.1357f4c74a6eabab19c22fc2ecb3f330.jpg', 'Alluvial_24_png.rf.0fce05e76d96d098f55b8cb603fdc0c6.jpg', 'Alluvial_26_png.rf.343dd59ffb07b7e20d11d35878860e84.jpg', 'Alluvial_26_png.rf.d07d1688cac5bfa63bce841cc1122a9e.jpg', 'Alluvial_30_png.rf.77b12dbed8520d076395d8f6c5669e4f.jpg', 'Alluvial_27_png.rf.8739192dbc1c950d26ffd26145fb117a.jpg', 'Alluvial_30_png.rf.b210264b677f21f6e05b7869f3bdc6dc.jpg', 'Alluvial_31_png.rf.e106649b5e566ce890acd5be9820228d.jpg', 'Alluvial_32_jpg.rf.a675d4a4a8689a48332052d7aa1170a0.jpg', 'Alluvial_33_png.rf.a562c167c58bbd6bd40328f47523e294.jpg', 'Alluvial_35-Copy_jpg.rf.dfcafcaa3b68ab55852fd8a8940be856.jpg', 'Alluvial_34_png.rf.227ded8b14a25b68871e741f3dd97789.jpg', 'Alluvial_36_jpg.rf.997e43f84684b93ab710c56d7b28c241.jpg', 'Alluvial_37_png.rf.989e66ff942e18d19526dae1e370bdd8.jpg', 'Alluvial_38-Copy_jpg.rf.1f334eb087899e0379d8f4d960c93fa3.jpg', 'Alluvial_39_jpg.rf.471741fa01fe2f10289a25f21ff785e1.jpg', 'Alluvial_42_jpg.rf.341b1aea5f9da3c5f6f1ce3aea6d7479.jpg', 'Alluvial_40_jpg.rf.e999a01b9f3239a47cbec138cd7b1027.jpg', 'Alluvial_41_jpg.rf.c7d06179b9688f4cd09e835bcd3960d8.jpg', 'Alluvial_43_png.rf.738608b46bf4979d81284558850d64dc.jpg', 'Alluvial_50_png.rf.d50106fa4705c448976aeaf6511d8167.jpg', 'alluvial-1_png.rf.717a8646e839433fb412b8083c92aba2.jpg', 'alluvial-2_png.rf.eca19b0e4df88189a202d14aee8f85eb.jpg', 'alluvial-3_png.rf.d1a3ee275528bd839f3555b82a12ef0a.jpg', 'alluvial-4_png.rf.9adabe11f1882e80406af7a9d3fe67cc.jpg', 'alluvial-6_png.rf.625d327a3e93321dccc10c13e1c6118a.jpg', 'alluvial-7_png.rf.586662104c665c14d9f89a2817f79d78.jpg', 'alluvial-10_png.rf.596cf82ee57bcfdf624b08a4b0276048.jpg', 'alluvial-11_png.rf.296c1fd0929f6f575f60d4baae193461.jpg', 'alluvial-deposite-tumacacori-az-260nw-1007253439_jpg.rf.7992cbb60789ab63822fb8bf038469a0.jpg', 'alluvial-deposite-tumacacori-az-600w-1007253439_jpg.rf.eaf4534475934780d38b8ec70792d743.jpg', 'alluvial-diamond-layers-mining-site-western-cape-south-africa-G8CR87_jpg.rf.0c37c534818d522e949dac0e2298a070.jpg', 'alluvial-soil-1_jpg.rf.9b804876facc7fe0c868b623b6eafb4d.jpg', 'Alluvial-Soil-_png.rf.e6a23388cf8936bee2d2b95546559c48.jpg', 'alluvial-soil-1kg-green-era-original-imag4r54hhybzhqc_jpeg.rf.fa41e646d0074c86b71f88a76026dc74.jpg', 'alluvial-soil1_png.rf.0e2057afd632966ee9b14a2208d5a0a0.jpg', 'Alluvial-soil-distribution-in-India-1_jpeg.rf.9ef1b7b916f56a8435c4bb17aad83bb5.jpg', 'Alluvial-soil-distribution-in-India_jpg.rf.1a319e42ffef7684006f8aa3f842dcb6.jpg', 'alluvial-soil-1kg-green-era-original-imag4r54wbucymtp_jpeg.rf.c7cb7bf7aa6e7a7b0516918d7343661a.jpg', 'alluvial-soil-geographical-study-reference-260nw-1988780216_jpg.rf.cd15d1e1aedd6846cbe3c4d38fe6796d.jpg', 'alluvial-soil-geographical-study-reference-260nw-1992713210_jpg.rf.94b87c0dd6d4f661f26e26e0790b15d3.jpg', 'alluvial-soil-geographical-study-reference-600w-1988780216_jpg.rf.256a6221e6df13e1baf652f3396febf8.jpg', 'alluvial-soil-geographical-study-reference-600w-1992713210_jpg.rf.ff55e50215a8acdac8ad671391246090.jpg', 'alluvial-soil-profile-agricultural-land-600w-1867228486_jpg.rf.8343dc5efce0c6e78a8e5274ba07569b.jpg', 'alluvial-soils-ricker-2primefarmland-1200x675-1_jpg.rf.ebf025b520b3a62c7d7b47495cfee448.jpg', 'CHANNINGDAUGHTERSsoilprofile4-JPG_jpg.rf.909dca92af4e79828c9297b86cbb2742.jpg', 'closeup-alluvial-soil-texturebackground-260nw-524203225_jpg.rf.c41b106e94bd97f187f9da697c686a08.jpg', 'closeup-alluvial-soil-texturebackground-600w-524203225_jpg.rf.fac6aafb86d5719844a6a3e858085278.jpg', 'close-up-of-alluvial-soil-as-a-texturebackground-JCB3RY_jpg.rf.21f37430f4e077d2f46d262d22fbc8f9.jpg', 'Copy-of-image2-2-_jpeg.rf.85dfbc4f9a20de548bee820089618806.jpg', 'Copy-of-image7_jpeg.rf.829aac6ddd1f64794b0d1df82900049b.jpg', 'Copy-of-image14-2-_jpeg.rf.83afaeee6ecf340799b99d6f0b4d5c67.jpg', 'Copy-of-image16-2-_jpeg.rf.3d7295463ddca4d4b53fd92b1a1cea10.jpg', 'Copy-of-image14-3-_jpeg.rf.4488f1e5bb6fa624d6dcfba7650f4391.jpg', 'Copy-of-image17-2-_jpeg.rf.46f27a9afdf369b13513e26b7a94edee.jpg', 'Copy-of-image24-3-_jpeg.rf.3e812c5228b3af3602c9223c451b8cba.jpg', 'Copy-of-image24-2-_jpeg.rf.aa50093f67ebf2b64d1312eadc20a1aa.jpg', 'Copy-of-images19-2-_jpg.rf.6dabd916d1196a658f2473640ab4b49b.jpg', 'Copy-of-image30-2-_jpeg.rf.365bdbce75bc02832d8c6709ed7ab1c2.jpg', 'Copy-of-images21_jpg.rf.27877e37afa53c77586f61e0803e518c.jpg', 'Copy-of-images42_jpg.rf.65fcb569a750ba87500e25410afc6f13.jpg', 'Copy-of-images60_jpg.rf.314cdab72998bb860dcba2a81ae4825a.jpg', 'Copy-of-images76-2-_jpg.rf.b155b311ae754ff0b2f9b6fa7b1e2fcc.jpg', 'Copy-of-images64_jpg.rf.577e36906eb7d880c027486e8d4f033b.jpg', 'Copy-of-images78-2-_jpg.rf.c101fdb22c6f8281ecb49e5f831e7bd4.jpg', 'Copy-of-images77-2-_jpg.rf.f8836990b8166937a8210b5373b8d2f6.jpg', 'Copy-of-images84_jpg.rf.15ce522f2a63357e2fcad8d6bc6681df.jpg', 'Copy-of-images81_jpg.rf.6e2aede323fbca33dc91dad5e4380a3d.jpg', 'Copy-of-images93_jpg.rf.0a149e454039436ab10931bf71c717f3.jpg', 'Copy-of-images96_jpg.rf.36a915165aa1a73a97eacd24950105e5.jpg', 'Copy-of-images97_jpg.rf.c69e1c9425e1b3bc86ae0f8b73cbadbb.jpg', 'Copy-of-IMG-20220531-WA0017_jpg.rf.8f2275b4d63db291d4621e5273e11e57.jpg', 'Copy-of-images105_jpg.rf.f29a805a292a541d59c478a2e33701a6.jpg', 'Copy-of-IMG-20220531-WA0019_jpg.rf.010688fb81409966a9db36a5e55568bc.jpg', 'Copy-of-IMG-20220531-WA0018_jpg.rf.5b31a1536511a7ccab6ac3bbd11f64f1.jpg', 'Copy-of-IMG-20220531-WA0021_jpg.rf.9d0d77f7523c12aa2bf77fb461d4040d.jpg', 'Copy-of-IMG-20220531-WA0020_jpg.rf.1eb5ab47a04af33eabe9317595e46bd5.jpg', 'Copy-of-IMG-20220531-WA0022_jpg.rf.158ef225290915eb5be0d3d09f66cda7.jpg', 'Copy-of-IMG-20220531-WA0024_jpg.rf.658f47c368817ffa3064fe362e5a2e6b.jpg', 'Copy-of-IMG-20220531-WA0025_jpg.rf.616377b9f36aac5cd824f6f890f45d83.jpg', 'Copy-of-IMG-20220531-WA0026_jpg.rf.63f54212e62b933838b34e4a040faf4c.jpg', 'Copy-of-IMG-20220531-WA0027_jpg.rf.e697bbc3f001447c7d9fbc9cd25bd6a3.jpg', 'Copy-of-IMG-20220531-WA0028_jpg.rf.a249edc2d3c865810ef951b3ffad9788.jpg', 'Copy-of-IMG-20220531-WA0029_jpg.rf.3a6f0068a85a72d219cb1baf704b31bc.jpg', 'Copy-of-IMG-20220531-WA0030_jpg.rf.790ab4d656953ae49c5624dd68a604bf.jpg', 'Copy-of-IMG-20220531-WA0031_jpg.rf.ffb42e9e63a02f4d881feed31d77e8b0.jpg', 'Copy-of-IMG-20220531-WA0032_jpg.rf.41f5c31652dadc567d3b6de9602e0762.jpg', 'Copy-of-IMG-20220531-WA0033_jpg.rf.dc9d0b15d83456bfbfb2a17f93b513b7.jpg', 'Copy-of-IMG-20220531-WA0034_jpg.rf.92985c6a1f0d2b30e26cea30bdec2e35.jpg', 'Copy-of-IMG-20220531-WA0035_jpg.rf.512b957ab7259210f9feb35b43e0a5b3.jpg', 'Copy-of-IMG-20220531-WA0036_jpg.rf.470b79de0197ac818fd56632d6325e1e.jpg', 'Copy-of-IMG-20220531-WA0038_jpg.rf.f01849ab9160ff409168d0483a5d5309.jpg', 'Copy-of-IMG-20220531-WA0037_jpg.rf.b6baba9f66059ba4cdffc9529833ec68.jpg', 'Copy-of-IMG-20220531-WA0040_jpg.rf.b2b7b798cd2ea1a7c14731f9ca354814.jpg', 'Copy-of-IMG-20220531-WA0039_jpg.rf.df2abfc20c1bbb84c033c157924595bb.jpg', 'Copy-of-IMG-20220531-WA0041_jpg.rf.c4dabd6520df0b37438ae03611180c00.jpg', 'Copy-of-IMG-20220531-WA0044_jpg.rf.cabebe20e4ac4aea63cb5be7e212bdfe.jpg', 'Copy-of-IMG-20220531-WA0043_jpg.rf.f57022ce3e8fb5f16fa727930dc78f60.jpg', 'Copy-of-IMG-20220531-WA0047_jpg.rf.ba42ac61fb9a02bfd25257cb8baa0550.jpg', 'Copy-of-IMG-20220531-WA0045_jpg.rf.5c80bda786268a9517a2853d18846731.jpg', 'Copy-of-IMG-20220531-WA0046_jpg.rf.663c58f55f9aff3b5f06e80fc389992e.jpg', 'Copy-of-IMG-20220531-WA0048_jpg.rf.94ada63ddcf5ef031a4f662832461e7e.jpg', 'Copy-of-IMG-20220531-WA0050_jpg.rf.5e26a0c61fa42371a14134fb2d858bc9.jpg', 'Copy-of-IMG-20220531-WA0049_jpg.rf.58abfe855eb7bce3d66808a963f34878.jpg', 'Copy-of-IMG-20220531-WA0051_jpg.rf.525fb02111fe303550e724ba4eac40c4.jpg', 'Copy-of-IMG-20220531-WA0053_jpg.rf.d8180fc135c94b8bf4fd951295991414.jpg', 'Copy-of-IMG-20220531-WA0052_jpg.rf.7d9cb43ebc59475ff3c3110eb317a297.jpg', 'Copy-of-IMG-20220531-WA0056_jpg.rf.ab3ff6de8b1166dfc848ec8ce7ca52d2.jpg', 'Copy-of-IMG-20220531-WA0054_jpg.rf.6b518a7a559bfa4bf599f62b1fd4cc02.jpg', 'Copy-of-IMG-20220531-WA0055_jpg.rf.79d8e4375fecdfedb315b77b7c7eb433.jpg', 'Copy-of-IMG-20220531-WA0057_jpg.rf.f6ba07db6e989073c03e63b536e43d48.jpg', 'Copy-of-IMG-20220531-WA0059_jpg.rf.1b073337cdba146bed2198b400727602.jpg', 'Copy-of-IMG-20220531-WA0058_jpg.rf.d7a12f8840a3f7130de3ce6e03ddd6fa.jpg', 'Copy-of-IMG-20220531-WA0060_jpg.rf.b5981b02ca743359233f2cc0c87ea829.jpg', 'Copy-of-IMG-20220531-WA0061_jpg.rf.4e2b6025bf8c6fb910268120903ec732.jpg', 'Copy-of-IMG-20220531-WA0064_jpg.rf.8e2a3cfac94fa111ec2188242145ac3f.jpg', 'Copy-of-IMG-20220531-WA0063_jpg.rf.438146832aedf1150669c898638a85b2.jpg', 'Copy-of-IMG-20220531-WA0062_jpg.rf.cce654338e0e62b8fd57829cfbfc6e8e.jpg', 'Copy-of-IMG-20220531-WA0065_jpg.rf.7027be5799d4953e126fcdf77e4416a6.jpg', 'Copy-of-IMG-20220531-WA0066_jpg.rf.41b75b287e03543cb0c0d9f5d1886f07.jpg', 'Copy-of-IMG-20220531-WA0067_jpg.rf.fa69466a0936ccc245bc0eb4de000b5d.jpg', 'Copy-of-IMG-20220531-WA0070_jpg.rf.fb83a37f0afb971dc5d4547ee0678357.jpg', 'Copy-of-IMG-20220531-WA0068_jpg.rf.b38408aa17b9ef6f4f95d66b7936bacc.jpg', 'Copy-of-IMG-20220531-WA0069_jpg.rf.eb3e05752d15ae1a805011a5591ecad5.jpg', 'Copy-of-IMG-20220531-WA0072_jpg.rf.7ab2be042fc134c4f15bf6be4c90bd81.jpg', 'Copy-of-IMG-20220531-WA0073_jpg.rf.7c3cd3cc3641dfcda3d197003ea37582.jpg', 'Copy-of-IMG-20220531-WA0071_jpg.rf.77b0c319e3f0660f87122861a2649dd1.jpg', 'Copy-of-IMG-20220531-WA0077_jpg.rf.297ce95295647d05e0cbcdaa1ec03496.jpg', 'Copy-of-IMG-20220531-WA0078_jpg.rf.8c12a27c408588bc6e4322f01a2859a9.jpg', 'Copy-of-IMG-20220531-WA0074_jpg.rf.024a969b746c0f2733c0cf9464176a2a.jpg', 'Copy-of-IMG-20220531-WA0076_jpg.rf.1c98d8b6c20b0cb0ea7f07e9efc3c3a5.jpg', 'Copy-of-IMG-20220531-WA0080_jpg.rf.d5ecae44c98c4afad241ee2fe2f35063.jpg', 'Copy-of-IMG-20220531-WA0079_jpg.rf.d4223d5edfa2e275e510a7f043cef1e8.jpg', 'Copy-of-IMG-20220531-WA0081_jpg.rf.d88ce3c66320fb051b84f95856648924.jpg', 'Copy-of-IMG-20220531-WA0082_jpg.rf.392d3da846c8f37310da56d483e729c3.jpg', 'Copy-of-IMG-20220531-WA0086_jpg.rf.b1d3ea2ca02e281c81b27160338448fc.jpg', 'Copy-of-IMG-20220531-WA0087_jpg.rf.6bb8b1b0db507c333f62396dd6e6c1e1.jpg', 'Copy-of-IMG-20220531-WA0089_jpg.rf.cc552cef005f407ba848822edad9eaff.jpg', 'Copy-of-IMG-20220531-WA0090_jpg.rf.388807a11681cd38666557e2db8de706.jpg', 'Copy-of-IMG-20220531-WA0088_jpg.rf.f2683ee4aabdce9994e49b211af10aa1.jpg', 'Copy-of-IMG-20220531-WA0092_jpg.rf.57ca3af12f99efe5fef47b99515bb0c5.jpg', 'Copy-of-IMG-20220531-WA0093_jpg.rf.742cffeed9b950163828eaccbb8482f7.jpg', 'Copy-of-IMG-20220531-WA0091_jpg.rf.f00adaf50338480adc4567c175f1d1b9.jpg', 'Copy-of-photo_2022-06-01_07-04-46_jpg.rf.47a4c61185d7dc11a6314160afeb1f05.jpg', 'Copy-of-IMG-20220531-WA0094_jpg.rf.63ec5a27800e61b8ef084f8eeba13654.jpg', 'Copy-of-photo_2022-06-01_07-04-38_jpg.rf.6bf66556db16fb7190427624f78cc54c.jpg', 'Copy-of-photo_2022-06-01_07-05-44_jpg.rf.4992df73574600f923bdf3f98e89f834.jpg', 'Copy-of-photo_2022-06-01_07-05-40_jpg.rf.6ab65e0273450933f791c1bbab3b63bc.jpg', 'Copy-of-photo_2022-06-01_07-05-32_jpg.rf.7522f5a51995a25e9ea520bd863ad2f7.jpg', 'Copy-of-photo_2022-06-01_07-05-48_jpg.rf.c7b72909f2694a4051d0d605ea9a0272.jpg', 'Copy-of-photo_2022-06-01_07-06-04_jpg.rf.5432c06ef87232f079b437c271619986.jpg', 'Copy-of-photo_2022-06-01_07-06-00_jpg.rf.83cd22a9de062c20469e714cb49ed10b.jpg', 'Copy-of-photo_2022-06-01_07-05-56_jpg.rf.1d5eb592d8d4b8dcaaf132165d25a5f4.jpg', 'Copy-of-photo_2022-06-01_07-05-52_jpg.rf.e0cb88e54c93cdd4809e5d59d7188aed.jpg', 'Copy-of-photo_2022-06-01_07-06-07_jpg.rf.f86901543df5880f2fad545ddb820743.jpg', 'Copy-of-photo_2022-06-01_07-06-11_jpg.rf.bedefd5cd081fb3d07185052ffb2b4d8.jpg', 'Copy-of-photo_2022-06-01_07-06-15_jpg.rf.c5bac7ff46ef73dc6dd26ea22a9d3fcd.jpg', 'Copy-of-photo_2022-06-01_07-06-30_jpg.rf.b29b409fd6e56cb810c9f399ca2021b5.jpg', 'Copy-of-photo_2022-06-01_07-06-23_jpg.rf.e703142312c91635ad9a5847de2ecce6.jpg', 'Copy-of-photo_2022-06-01_07-06-27_jpg.rf.aaf9ce1a9e819f28362c64f1d1b07596.jpg', 'Copy-of-photo_2022-06-01_07-06-18_jpg.rf.42eaa5943e258d54c49b486773b072d8.jpg', 'Copy-of-photo_2022-06-01_07-06-33_jpg.rf.ae6e9e8b926ce658bd9c6bee172efb8e.jpg', 'Copy-of-photo_2022-06-01_07-06-41_jpg.rf.e2cd5a88b992ad106214e90ee66e07ea.jpg', 'Copy-of-photo_2022-06-01_07-06-37_jpg.rf.a0c45cf083b2449948a3875ee8c5c6b7.jpg', 'Copy-of-photo_2022-06-01_07-06-57_jpg.rf.7c41947d227b4462efff56f0ef4bbae2.jpg', 'Copy-of-photo_2022-06-01_07-06-52_jpg.rf.4062c673705ac5be4f99881524b266d0.jpg', 'Copy-of-photo_2022-06-01_07-07-00_jpg.rf.210ee734a697d1cc22d6e192115bac7a.jpg', 'Copy-of-photo_2022-06-01_07-06-45_jpg.rf.db68cf4e4ed3d7a8ffe3a779ae6f5ce9.jpg', 'Copy-of-photo_2022-06-01_07-06-48_jpg.rf.d191556595adb22981a355fc2062e639.jpg', 'Copy-of-photo_2022-06-01_07-07-11_jpg.rf.0c77c22b12b3ec6982ef06addc735179.jpg', 'Copy-of-photo_2022-06-01_07-07-04_jpg.rf.8427fc1af4b1b594b0318ee5121b8da4.jpg', 'Copy-of-photo_2022-06-01_07-07-08_jpg.rf.c5045447f2893f4f24e138973266e9a9.jpg', 'Copy-of-photo_2022-06-01_07-07-20_jpg.rf.c13bcb082c4401cad95203983fedb85e.jpg', 'Copy-of-photo_2022-06-01_07-07-41_jpg.rf.9e4a4132f6a4036e0288dd454f23153f.jpg', 'Copy-of-photo_2022-06-01_07-07-15_jpg.rf.790a90c61752cbd307bd4cf612c2d99c.jpg', 'Copy-of-photo_2022-06-01_07-07-37_jpg.rf.c4e923402e2a6239d33b7087abf80052.jpg', 'Copy-of-photo_2022-06-01_07-07-52_jpg.rf.1ab17aaac208c9ce18257d92b01e07dd.jpg', 'Copy-of-photo_2022-06-01_07-07-56_jpg.rf.bf358a77ebaaaa4eadbaa83d73e36ecf.jpg', 'Copy-of-photo_2022-06-01_07-07-45_jpg.rf.48b993debcc6015db4866add508b78a3.jpg', 'Copy-of-photo_2022-06-01_07-07-48_jpg.rf.4683491f3ac448c6086616cdc8c0696c.jpg', 'Copy-of-photo_2022-06-01_07-08-00_jpg.rf.2d6df6a32c3a2ae7b8423ce9e4646125.jpg', 'Copy-of-photo_2022-06-01_07-08-14_jpg.rf.56d76e2ef744c535f55ea8717a5b40f6.jpg', 'Copy-of-photo_2022-06-01_07-08-03_jpg.rf.22dcf0f1b6e5e0e489dfc426d7b18fb2.jpg', 'Copy-of-photo_2022-06-01_07-08-10_jpg.rf.c83a290541f0de1f5e5f66d03ae2a384.jpg', 'Copy-of-photo_2022-06-01_07-08-07_jpg.rf.bc1547f3f8629190049b6f84dc30f0b1.jpg', 'Copy-of-photo_2022-06-01_07-08-22_jpg.rf.4739a9cfce5cbd31568f43f7c13c84ed.jpg', 'Copy-of-photo_2022-06-01_07-08-33_jpg.rf.e08c705bdfc4affa7dd5e6c7d83f0547.jpg', 'Copy-of-photo_2022-06-01_07-08-29_jpg.rf.122278e32b39fe5681364bb6aa9e28e4.jpg', 'Copy-of-photo_2022-06-01_07-08-26_jpg.rf.b1ffffeece1bd2eed326b67674af3f08.jpg', 'Copy-of-photo_2022-06-01_07-08-43_jpg.rf.cfb5ba9b987ed2b6e33450bd37f4f2ab.jpg', 'Copy-of-photo_2022-06-01_07-08-54_jpg.rf.6a5dd273d19d7a77a48c88a352fc1c29.jpg', 'Copy-of-photo_2022-06-01_07-08-50_jpg.rf.4bc3396932bf9cc97bfcba9fbfbd6ea3.jpg', 'Copy-of-photo_2022-06-01_07-08-46_jpg.rf.85e9f44382b65830e42462dc521342eb.jpg', 'Copy-of-photo_2022-06-01_07-09-04_jpg.rf.446856641a8fbc1d610a5b40d761ddde.jpg', 'Copy-of-photo_2022-06-01_07-09-07_jpg.rf.ebafd37e3abf73206c0ce2f1c31af343.jpg', 'Copy-of-photo_2022-06-01_07-09-01_jpg.rf.0de38b47f98ea0f8ae16ce1310995957.jpg', 'Copy-of-photo_2022-06-01_07-08-57_jpg.rf.5cbbd9f118ff5294c5fa3d9517c19e6d.jpg', 'Copy-of-photo_2022-06-01_07-09-17_jpg.rf.eea506690fd5bbb33b8dda9feeceaf3f.jpg', 'Copy-of-photo_2022-06-01_07-09-20_jpg.rf.c56363b2f02236d4b54d9215219124f6.jpg', 'Copy-of-photo_2022-06-01_07-09-11_jpg.rf.59070d303979b0e5c75875623ed07220.jpg', 'Copy-of-photo_2022-06-01_07-09-14_jpg.rf.dc9f62122ee4519c4f05a68cadbbfbd8.jpg', 'Copy-of-photo_2022-06-01_07-09-23_jpg.rf.ad7f59e21afb6b53c06770ee7ce46a1f.jpg', 'Copy-of-photo_2022-06-01_07-09-39_jpg.rf.33c62a32ae8e1d54ef2d80c403050d36.jpg', 'Copy-of-photo_2022-06-01_07-09-31_jpg.rf.fcd09c0ae0b1a9a921cddad5e1fd5519.jpg', 'Copy-of-photo_2022-06-01_07-09-35_jpg.rf.11eb41346389789f8b047ac74180531d.jpg', 'Copy-of-photo_2022-06-01_07-09-42_jpg.rf.e410b1cc87ea5cd5a353d0a92df65e5c.jpg', 'Copy-of-photo_2022-06-01_07-09-27_jpg.rf.94afa8a8c05ced1e031edb97b1e34ede.jpg', 'Copy-of-photo_2022-06-01_07-09-53_jpg.rf.6e295f752c73da00d615ced3272e790e.jpg', 'Copy-of-photo_2022-06-01_07-10-02_jpg.rf.b43635caf85a6b8ef02319411fffcf0b.jpg', 'Copy-of-photo_2022-06-01_07-09-49_jpg.rf.cf7a96e7ff0bc1854892bcc96f4f7a3c.jpg', 'Copy-of-photo_2022-06-01_07-10-05_jpg.rf.aae6b15b98f0984b221643359194b337.jpg', 'Copy-of-photo_2022-06-01_07-10-09_jpg.rf.801a2e7e08204b1ad46209a31eab08de.jpg', 'Copy-of-photo_2022-06-01_07-09-58_jpg.rf.10ca37e821366c667dbde28dddf641b6.jpg', 'Copy-of-photo_2022-06-01_07-10-17_jpg.rf.1b0449f3e6f0587b653fd14f6b8ab493.jpg', 'Copy-of-photo_2022-06-01_07-10-12_jpg.rf.d72f8d5f35f5733c1f8b3c4b36643ffc.jpg', 'Copy-of-photo_2022-06-01_07-10-15_jpg.rf.a7151ec81d59228e9b90855b548d7c0e.jpg', 'Copy-of-photo_2022-06-01_07-10-24_jpg.rf.afd991dd01724fb5949146800776272c.jpg', 'Copy-of-photo_2022-06-01_07-10-21_jpg.rf.95235acfda0171177b970bf03ca90869.jpg', 'Copy-of-Photograph-showing-the-presence-of-alluvial-soil-along-stream-course-dry-near-Patlodha_Q640_jpg.rf.6d0f06e3addf418dd19528339ed829b7.jpg', 'Copy-of-Sample9-30_jpg.rf.83fe238c8c3b981377b85272eb3ea889.jpg', 'Copy-of-Sample9-60_jpg.rf.86b553afb031bac3fa409cbd9a4a37a4.jpg', 'Copy-of-photo_2022-06-01_07-10-28_jpg.rf.8a55b1b724198318b7fea5006ba5e66b.jpg', 'Copy-of-Sample9-90_jpg.rf.bf110e4545bb5cdac08779333dc55b26.jpg', 'Copy-of-Sample9-0_jpg.rf.cd875a40b43fc86fe3a2e7df65505b98.jpg', 'Copy-of-Sample9-180_jpg.rf.f66a2701f9a5c1e539601e498e699bdc.jpg', 'Copy-of-Sample9-150_jpg.rf.3cc13ef2377d92aa8e29666d5f828c9c.jpg', 'Copy-of-Sample10-0_jpg.rf.e66151265e85747eb8d7b9761c4462e1.jpg', 'Copy-of-Sample10-30_jpg.rf.a6e94073602e66b6268e751416a2a2fa.jpg', 'Copy-of-Sample9-120_jpg.rf.32aab1172a4e5b8897e8b853ad67df07.jpg', 'Copy-of-Sample10-120_jpg.rf.c13f69d95e9aec07306695cd94507a6a.jpg', 'Copy-of-Sample11-0_jpg.rf.13d1bd6619c5f0d88020ef21fcefc40d.jpg', 'Copy-of-Sample10-90_jpg.rf.1f6bd11d9f71cd0f4cfee300f3ecf81c.jpg', 'Copy-of-Sample10-180_jpg.rf.4377e47237243ef4fbfee8d59f32d0a8.jpg', 'Copy-of-Sample10-150_jpg.rf.dca53e00fd4e6c629592f9820cccacfc.jpg', 'Copy-of-Sample10-60_jpg.rf.9081b8a7a7aeac2fab9fab23be94355a.jpg', 'Copy-of-Sample11-60_jpg.rf.85c37e47c6d4c028ae4e5af246985bda.jpg', 'Copy-of-Sample11-90_jpg.rf.9dea23d5269fbb4fb8f2963428072072.jpg', 'Copy-of-Sample11-120_jpg.rf.22f3b9ca907540af68d0d8b54d78b557.jpg', 'Copy-of-Sample11-180_jpg.rf.877e8b27402e0eaa543ef9bf3add8f0d.jpg', 'Copy-of-Sample11-30_jpg.rf.47d988fb508b9a6300d673aaa0255664.jpg', 'Copy-of-Sample11-150_jpg.rf.4acf675e6f954aa952a11bf5922de213.jpg', 'Copy-of-Sample13-150_jpg.rf.a21824701f49622e916f41239f952a8a.jpg', 'Copy-of-Sample13-30_jpg.rf.a7b5b46d96533dc89f9a8cc6152555ba.jpg', 'Copy-of-Sample13-180_jpg.rf.14ef45077936390e14e7dd5eb2ece49c.jpg', 'Copy-of-Sample13-120_jpg.rf.e167a58635143b11f6498f63f5d9ad9f.jpg', 'Copy-of-Sample13-60_jpg.rf.ba8517cd10c5299096a6634844737b1b.jpg', 'Copy-of-Sample13-90_jpg.rf.02d88ff575295bf4dca14145c42fb64c.jpg', 'Copy-of-Sample13-0_jpg.rf.3e38a57ebc010d7831e86be9de66ef6f.jpg', 'different-soil-types-are-found-in-different-states-of-the-country-1743086732_jpg.rf.f4a503964c9329abfb610e43e8542d52.jpg', 'Copy-of-seamless-texture-dry-cracked-sand-clay-soil_97070-1703_jpg.rf.b2b09ad8af971e9c716c33aa7c9ebba5.jpg', 'echinochloa-barnyard-sprout-has-grown-260nw-1759820435_jpg.rf.7aa2a1de27799d7651b82a1fdc04f708.jpg', 'fossilized-concretions-alluvial-sand-soil-260nw-1205780284_jpg.rf.792e6c28b0e8afe20e633d67fb72d372.jpg', 'different-soil-types-are-found-in-different-states-of-the-country-1743087089_jpg.rf.76d6da72766b350f1ca4bff9cfd0d662.jpg', 'fossilized-concretions-alluvial-sand-soil-600w-1205780284_jpg.rf.1cae78b5301192511331c2e680c35d9b.jpg', 'Copy-of-v4-460px-Make-Clay-from-Indigenous-Soil-Step-1-Version-2_jpg.rf.f8973d76eb184192c316f170e28db526.jpg', 'image_jpeg.rf.b9cec7e5582bf5f4646d00ded697754a.jpg', 'india-agricultural-country-different-soil-260nw-1743086732_jpg.rf.6c6527ff5b5348209d0ff6963ae67d17.jpg', 'image5_jpeg.rf.e2ceed1e23bff0b050aa209c2f5880c4.jpg', 'india-agricultural-country-different-soil-260nw-1743087089_jpg.rf.f7405115c5946c093a33002b55107599.jpg', 'image15-2-_jpeg.rf.3acc30e473a5c831f4b55d7389d1409b.jpg', 'image8_jpeg.rf.2936926b88ea4b9c6c117322575752f5.jpg', 'natural-silty-soil-background-brown-600w-234187528_jpg.rf.100d5c5c6b441af0e50d241d351353e5.jpg', 'natural-silty-soil-background-brown-600w-184759979_jpg.rf.78bc4b6f970b52b51c43f98b9dd37404.jpg', 'natural-silty-soil-background-brown-260nw-184759979_jpg.rf.6b762f4b5943d2ddfdc86592bb39b584.jpg', 'maxresdefault3_jpg.rf.83f35d9a7d3ccfb8f99961be29ec9301.jpg', 'natural-silty-soil-background-brown-260nw-234187528_jpg.rf.76371e32910448f121b8b7ab53cc89ba.jpg', 'india-agricultural-country-different-soil-600w-1743086732_jpg.rf.6f830b3a8addac11f0fc6cfcd4cb6644.jpg', 'india-agricultural-country-different-soil-600w-1743087089_jpg.rf.fbe8f1dac7e2623260e32dd905731c4a.jpg', 'natural-silty-soil-background-gray-600w-184758788_jpg.rf.d9b69dd9476d6ccb6ba366991417eb7e.jpg', 'OIP-BrlorKHI55G8GWp-2h3D3AHaE6_jpg.rf.aa7aae34e62e9ffb7021a586993a0382.jpg', 'OIP-2FeBIZUc_LfQqTdwlHtmRAHaEK_jpg.rf.58f381b71040d42f5b0922e0455ed0cf.jpg', 'natural-silty-soil-background-gray-260nw-184758788_jpg.rf.7e9dfdbb0582a1087312aa3aa8791c11.jpg', 'OIP-4clzFk5Z-CwOONMGFSPMbwHaFc_jpg.rf.a6711424f8cfb68e11e258adebd75b98.jpg', 'OIP-3Kq1BfOflfo9AeJdczaMowHaEK_jpg.rf.6513036f6c65c857f99518447c8604a6.jpg', 'OIP-1vicXvT-DTQcmaSqg8ZIxwHaDt_jpg.rf.50fea0b13ebe0450579a12001258f37e.jpg', 'OIP-DYv2HhVuCZkJuo6K4NcjgwHaE6_jpg.rf.134707b258cfae1907f5c054b0a62a7c.jpg', 'OIP-fVsrmGNezxQjaH64kBToWwHaD4_jpg.rf.7746917276f5f35d0968dd576c61e1db.jpg', 'OIP-FrujxcZOtYy3VxdWx5LWnQHaFG_jpg.rf.8a9d7e25263b3ac517211ca967d3a3a7.jpg', 'OIP-cVbfiu4IyXjR3Bo20h4GVgHaFi_jpg.rf.7059796c60e1412cdd7df07dba5fea64.jpg', 'OIP-H3kzb4utqTN7dWVbzM7rwAHaEK_jpg.rf.58c934eba9df50aa1d2a1b9c0d21ec3e.jpg', 'OIP-FrujxcZOtYy3VxdWx5LWnQHaFG2_jpg.rf.530280cc400f9d5deb08d216b10072f5.jpg', 'OIP-g1CkewGUpICmIzp9SBuyTAHaGz_jpg.rf.f574869a849644412d3a60b418d99599.jpg', 'OIP-H3kzb4utqTN7dWVbzM7rwAHaEK2_jpg.rf.594d02681dd8e5ef5ef08012d46f95c1.jpg', 'OIP-dRFUggaIxBebiqqG13n0_AHaE6_jpg.rf.5e52cbc3423764aec76b0ab4bf0ba8b9.jpg', 'OIP-Kn4LNdqDw9V3F7YQKCPaBQHaLc_jpg.rf.86c348f17b521c8f2e54e3188324e26c.jpg', 'OIP-OiTT-QFIrDWb_w89UL0ntAHaE6_jpg.rf.8629f69b1ff534237d4653fda84c1c37.jpg', 'OIP-uApXs3Gbx3mU71-BGTLf3gHaE-_jpg.rf.d3cfb34c5c9a0f756874d476aa2226ea.jpg', 'OIP-Tyq5ulNFFyOPKMcZgfCLuAAAAA_jpg.rf.4f765c431e7b03d1352b9b6490d84ff0.jpg', 'OIP-HxR3HmFmEDtRwv49xNa6tAHaFc_jpg.rf.7a95adb310165cca85d3bfb15fda8563.jpg', 'OIP-KVkf9QJRKPigCm0hKBI3qAEsDh_jpg.rf.49595a057eb019a151f97d2b6d4bc173.jpg', 'OIP-raUzyqtNr7IxQ0aTNBpYYAHaJ4_jpg.rf.b38a86a278f77f03e7625864db1db85d.jpg', 'OIP-lf-P9Z4OogePsv6aa0-cFQHaFT_jpg.rf.271eadfd43da997f85d236b50d2fed1e.jpg', 'OIP-LrCRAxHVn5zVy0k3GitUygHaD4_jpg.rf.094bb47ac5e3e6b63484bb5ade29ce2d.jpg', 'OIP-KVkf9QJRKPigCm0hKBI3qAEsDh2_jpg.rf.38bdb172a419500de16decbc6451e744.jpg', 'river-alluvial-silt-600w-1055516195_jpg.rf.dc101ac68e4a6054be7fd279e1f7de69.jpg', 'seedbed-high-resolution-image-260nw-1268644045_jpg.rf.a33f990949e225a32ff1a448fbfde5e9.jpg', 'Photograph-showing-the-presence-of-alluvial-soil-along-stream-course-dry-near-Patlodha_png.rf.6d3e04b2efb03eb644a3eaf54ca027cd.jpg', 'OIP-XkWVIib-nRzhcUyqSGwzyAAAAA_jpg.rf.2711ffa704f7b47294d8cb5c0f7ecc4c.jpg', 'OIP-xtcfrIVCbUNDRIRoXLJNMwAAAA_jpg.rf.a28273f83977f19932738f99a36f0b29.jpg', 'river-alluvial-silt-260nw-1055516195_jpg.rf.433f1bc14add42a93dfee94cceaf269e.jpg', 'OIP-ZefJmtET3Dfl4AJkIZVRfwHaE8_jpg.rf.fd54cccaf9a99965ff5498014f585dc7.jpg', 'plowing-completed-after-completion-annual-260nw-1731441091_jpg.rf.5a5e234995944b2430dd37a3cb2b6bd1.jpg', 'stock-photo-river-alluvial-silt-1055516195_jpg.rf.a77c7183e1b21b5118ec2708028a5a46.jpg', 'stock-photo-geology-layers-1225720_jpg.rf.a1bd793046bfc9115f76fb6e3fb7e5b2.jpg', 'stock-photo-top-layer-of-moist-black-soil-1802407393_jpg.rf.ea0a60830dd47b024cddfc27c8a14374.jpg', 'stock-photo-alluvial-deposite-tumacacori-az-1007253439_jpg.rf.21dafa961a822d256f13ece2914fb3d6.jpg', 'th3_jpg.rf.62345dda32cca2cb8a5f55dcf2dcdfab.jpg', 'stock-photo-fossilized-concretions-in-the-alluvial-sand-soil-1205780284_jpg.rf.eea2fc4483995a3d91fb12fa26e333ea.jpg', 'sowing-has-been-done-plowed-260nw-1760541305_jpg.rf.c8925d479b77495dfb9ee5e8b1741adb.jpg', 'silt-soil-high-fertility-agriculture-600w-1330923143_jpg.rf.6b742ba6c27228203028c2f3c4b3d7bf.jpg', 'trace-water-on-mars-fictional-260nw-602187461_jpg.rf.e1e959957013808d45eab7aa3cea22d0.jpg', 'texture-alluvial-mud-sea-shore-600w-1779309644_jpg.rf.11a66d0956ba99a11464b4e709d4232f.jpg', '-soil-for-agriculture-silt-is-granular-material-of-a-size-between-1330923143_jpg.rf.5f33e607074f09f8e61dcce9b2b8a445.jpg', 'soil-fertility-refers-ability-sustain-260nw-1857726589_jpg.rf.4687704ff3acd65d27df6ff2760ff503.jpg', '40734_CMS_IMAGE_png.rf.5e98352c2e8d2d3a8603f4ad8d09314f.jpg', '92d1b796-1416-4209-8361-42289841df6f3986576519591075267_png.rf.0c6a07f8edc41189c2ea7008b7d13e90.jpg', '1000_F_240425429_YL91trtDxXQl8L0OKP7zyngeSb63olAC_jpg.rf.9033da6a20c656a0c1f3e9e8ff7890e7.jpg', 'alluvial_2.png', 'alluvial_7.png', 'alluvial_8.png', 'alluvial_11.png', 'alluvial_5.png', 'alluvial_3.png', 'alluvial_9.png', 'alluvial_4.png', 'alluvial_10.png', 'alluvial_1.png', 'alluvial_6.png']\n"
          ]
        }
      ]
    },
    {
      "cell_type": "code",
      "source": [
        "import cv2\n",
        "\n",
        "test_img_path = \"/content/drive/MyDrive/Dataset_images/Alluvial_Soil/alluvial_2.png\"  # Change this\n",
        "image = cv2.imread(test_img_path)\n",
        "\n",
        "if image is None:\n",
        "    print(\"⚠️ Image not loading! Check file format.\")\n",
        "else:\n",
        "    print(\"✅ Image loaded successfully!\")\n"
      ],
      "metadata": {
        "colab": {
          "base_uri": "https://localhost:8080/"
        },
        "id": "O9E1dkzsgPZ_",
        "outputId": "edf50c65-6c08-47fd-c708-1afe020a6377"
      },
      "execution_count": null,
      "outputs": [
        {
          "output_type": "stream",
          "name": "stdout",
          "text": [
            "✅ Image loaded successfully!\n"
          ]
        }
      ]
    },
    {
      "cell_type": "code",
      "source": [
        "import os\n",
        "import cv2\n",
        "import numpy as np\n",
        "import pandas as pd\n",
        "from skimage.feature import local_binary_pattern\n",
        "\n",
        "# Define paths\n",
        "source_dir = \"/content/drive/MyDrive/Dataset_images\"  # Dataset folder path\n",
        "csv_file = \"/content/drive/MyDrive/soil_dataset.csv\"  # Output CSV file\n",
        "IMG_SIZE = 96  # Reduce image size to avoid large pixel arrays\n",
        "\n",
        "# Function to extract texture using Local Binary Pattern (LBP)\n",
        "def extract_texture(image):\n",
        "    gray = cv2.cvtColor(image, cv2.COLOR_BGR2GRAY)\n",
        "    lbp = local_binary_pattern(gray, P=8, R=1, method=\"uniform\")\n",
        "    hist, _ = np.histogram(lbp.ravel(), bins=np.arange(0, 10), density=True)\n",
        "    return hist.tolist()\n",
        "\n",
        "# Function to estimate organic matter content\n",
        "def estimate_organic_matter(image):\n",
        "    gray = cv2.cvtColor(image, cv2.COLOR_BGR2GRAY)\n",
        "    avg_brightness = np.mean(gray)\n",
        "    if avg_brightness < 50:\n",
        "        return \"High\"\n",
        "    elif avg_brightness < 150:\n",
        "        return \"Medium\"\n",
        "    else:\n",
        "        return \"Low\"\n",
        "\n",
        "# Function to estimate moisture level\n",
        "def estimate_moisture(image):\n",
        "    gray = cv2.cvtColor(image, cv2.COLOR_BGR2GRAY)\n",
        "    avg_intensity = np.mean(gray)\n",
        "    if avg_intensity < 60:\n",
        "        return \"High Moisture\"\n",
        "    elif avg_intensity < 140:\n",
        "        return \"Moderate Moisture\"\n",
        "    else:\n",
        "        return \"Low Moisture\"\n",
        "\n",
        "# Function to extract pixel values\n",
        "def extract_pixels(image):\n",
        "    resized = cv2.resize(image, (IMG_SIZE, IMG_SIZE))  # Resize for smaller arrays\n",
        "    return resized.flatten().tolist()\n",
        "\n",
        "# Store results\n",
        "data = []\n",
        "\n",
        "# Loop through each soil type folder\n",
        "for soil_type in os.listdir(source_dir):\n",
        "    soil_path = os.path.join(source_dir, soil_type)\n",
        "\n",
        "    if os.path.isdir(soil_path):\n",
        "        for img in os.listdir(soil_path):\n",
        "            img_path = os.path.join(soil_path, img)\n",
        "\n",
        "            # Read image\n",
        "            image = cv2.imread(img_path)\n",
        "            if image is None:\n",
        "                continue  # Skip unreadable images\n",
        "\n",
        "            # Extract features\n",
        "            texture = extract_texture(image)\n",
        "            organic_matter = estimate_organic_matter(image)\n",
        "            moisture = estimate_moisture(image)\n",
        "            pixels = extract_pixels(image)\n",
        "\n",
        "            # Append data (convert pixels to string to avoid CSV issues)\n",
        "            data.append([soil_type, texture, organic_matter, moisture, str(pixels)])\n",
        "\n",
        "# Create DataFrame and save to CSV\n",
        "df = pd.DataFrame(data, columns=[\"soil_type\", \"texture\", \"organic_matter\", \"moisture\", \"pixels\"])\n",
        "df.to_csv(csv_file, index=False)\n",
        "\n",
        "print(\"✅ Analysis complete! CSV saved at:\", csv_file)\n"
      ],
      "metadata": {
        "colab": {
          "base_uri": "https://localhost:8080/"
        },
        "id": "hxd-hwwro6vV",
        "outputId": "badfb244-32f0-4d6c-dc65-82674d52fc6e"
      },
      "execution_count": null,
      "outputs": [
        {
          "output_type": "stream",
          "name": "stdout",
          "text": [
            "✅ Analysis complete! CSV saved at: /content/drive/MyDrive/soil_dataset.csv\n"
          ]
        }
      ]
    }
  ]
}